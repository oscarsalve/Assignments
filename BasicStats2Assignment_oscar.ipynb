{
  "nbformat": 4,
  "nbformat_minor": 0,
  "metadata": {
    "colab": {
      "provenance": []
    },
    "kernelspec": {
      "name": "python3",
      "display_name": "Python 3"
    },
    "language_info": {
      "name": "python"
    }
  },
  "cells": [
    {
      "cell_type": "code",
      "source": [
        "import numpy as np\n",
        "from scipy import stats\n",
        "\n",
        "# Data\n",
        "data = [1.13, 1.55, 1.43, 0.92, 1.25, 1.36, 1.32, 0.85, 1.07, 1.48, 1.20, 1.33, 1.18, 1.22, 1.29]\n",
        "\n",
        "# Sample size\n",
        "n = len(data)\n",
        "\n",
        "# Sample mean\n",
        "sample_mean = np.mean(data)\n",
        "\n",
        "# Sample standard deviation\n",
        "sample_std = np.std(data, ddof=1)\n",
        "\n",
        "# 99% confidence interval using sample standard deviation\n",
        "confidence_level = 0.99\n",
        "alpha = 1 - confidence_level\n",
        "\n",
        "t_critical = t.ppf(1 - alpha/2, df=n-1) #degree of freedom\n",
        "\n",
        "# Margin of error\n",
        "margin_of_error_sample = t_critical * (sample_std / np.sqrt(n))\n",
        "\n",
        "# Confidence interval\n",
        "confidence_interval_sample = (sample_mean - margin_of_error_sample, sample_mean + margin_of_error_sample)\n",
        "\n",
        "# Known population standard deviation\n",
        "population_std = 0.2\n",
        "\n",
        "# 99% confidence interval using known population standard deviation\n",
        "z_critical = norm.ppf(1 - alpha/2)\n",
        "\n",
        "# Margin of error\n",
        "margin_of_error_population = z_critical * (population_std / np.sqrt(n))\n",
        "\n",
        "# Confidence interval\n",
        "confidence_interval_population = (sample_mean - margin_of_error_population, sample_mean + margin_of_error_population)\n",
        "\n",
        "(sample_mean, sample_std, confidence_interval_sample, confidence_interval_population)"
      ],
      "metadata": {
        "colab": {
          "base_uri": "https://localhost:8080/"
        },
        "id": "Euf0xLtz1aY5",
        "outputId": "44a9ac75-fbe1-48c1-8ce4-3a2d3f9a95cc"
      },
      "execution_count": 5,
      "outputs": [
        {
          "output_type": "execute_result",
          "data": {
            "text/plain": [
              "(1.2386666666666666,\n",
              " 0.19316412956959936,\n",
              " (1.0901973384384906, 1.3871359948948425),\n",
              " (1.1056514133957607, 1.3716819199375725))"
            ]
          },
          "metadata": {},
          "execution_count": 5
        }
      ]
    }
  ]
}