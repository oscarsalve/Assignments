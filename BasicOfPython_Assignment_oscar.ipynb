{
  "cells": [
    {
      "cell_type": "code",
      "execution_count": null,
      "metadata": {
        "colab": {
          "base_uri": "https://localhost:8080/"
        },
        "id": "qgFUrpUw4UeG",
        "outputId": "db08599c-61c0-4772-d076-91c029519ebc"
      },
      "outputs": [
        {
          "name": "stdout",
          "output_type": "stream",
          "text": [
            "Enter the number:17\n",
            "17 is a prime number\n"
          ]
        }
      ],
      "source": [
        "# Q-1) Exercise 1: Prime Numbers\n",
        "\n",
        "num=int(input(\"Enter the number:\"))\n",
        "if num==1:\n",
        "    print(\"not prime\")\n",
        "if num>1:\n",
        "  for n in range(2,num):\n",
        "    if num%2==0:\n",
        "      print(num,\"is not a prime number\")\n",
        "      break\n",
        "  else:\n",
        "        print(num,\"is a prime number\")"
      ]
    },
    {
      "cell_type": "code",
      "execution_count": 28,
      "metadata": {
        "colab": {
          "base_uri": "https://localhost:8080/"
        },
        "id": "J44JqeSTikl7",
        "outputId": "8dc293eb-0418-40ba-9410-71337d327e20"
      },
      "outputs": [
        {
          "name": "stdout",
          "output_type": "stream",
          "text": [
            "6 and 3\n",
            "enter product of these two numbers given above: 9\n",
            "you are wrong,try again\n"
          ]
        }
      ],
      "source": [
        "# Q-2) Exercise 2: Product of Random Numbers\n",
        "\n",
        "import random\n",
        "num1=random.randint(1,10)\n",
        "num2=random.randint(1,10)\n",
        "print(num1,\"and\",num2)\n",
        "product=num1 * num2\n",
        "useranswer=int(input(\"enter product of these two numbers given above: \"))\n",
        "if useranswer==product:\n",
        "  print(\"you are correct \")\n",
        "else:\n",
        "    print(\"you are wrong,try again\")"
      ]
    },
    {
      "cell_type": "code",
      "execution_count": 29,
      "metadata": {
        "colab": {
          "base_uri": "https://localhost:8080/"
        },
        "id": "P0t6xhXnmBke",
        "outputId": "8d45744a-6061-410a-9105-ee517407ea01"
      },
      "outputs": [
        {
          "name": "stdout",
          "output_type": "stream",
          "text": [
            "[100, 102, 104, 106, 108, 110, 112, 114, 116, 118, 120, 122, 124, 126, 128, 130, 132, 134, 136, 138, 140, 142, 144, 146, 148, 150, 152, 154, 156, 158, 160, 162, 164, 166, 168, 170, 172, 174, 176, 178, 180, 182, 184, 186, 188, 190, 192, 194, 196, 198]\n",
            "\n",
            "the squares of all even numbers within the range of 100 to 200 are as follows :\n",
            "\n",
            "10000,10404,10816,11236,11664,12100,12544,12996,13456,13924,14400,14884,15376,15876,16384,16900,17424,17956,18496,19044,19600,20164,20736,21316,21904,22500,23104,23716,24336,24964,25600,26244,26896,27556,28224,28900,29584,30276,30976,31684,32400,33124,33856,34596,35344,36100,36864,37636,38416,39204,"
          ]
        }
      ],
      "source": [
        "# Q-3) Exercise 3: Squares of Even Numbers\n",
        "\n",
        "n1=list(range(100,200,2))\n",
        "print(n1)\n",
        "print()\n",
        "\n",
        "print(\"the squares of all even numbers within the range of 100 to 200 are as follows :\")\n",
        "print()\n",
        "\n",
        "for i in n1:\n",
        "  if(i%2==0):\n",
        "    print(i*i,end=',')"
      ]
    },
    {
      "cell_type": "code",
      "execution_count": 31,
      "metadata": {
        "colab": {
          "base_uri": "https://localhost:8080/"
        },
        "collapsed": true,
        "id": "FgpDZnlKZtTF",
        "outputId": "3e210919-b5ef-4419-a0c6-be1fbf2d6055"
      },
      "outputs": [
        {
          "name": "stdout",
          "output_type": "stream",
          "text": [
            "enter your string :This is a sample text. This text will be used to demonstrate the word counter\n",
            "{'This': 2, 'is': 1, 'a': 1, 'sample': 1, 'text.': 1, 'text': 1, 'will': 1, 'be': 1, 'used': 1, 'to': 1, 'demonstrate': 1, 'the': 1, 'word': 1, 'counter': 1}\n"
          ]
        }
      ],
      "source": [
        "# Q.4) Exercise 4: Word counter\n",
        "\n",
        "my_string=input(\"enter your string :\")\n",
        "n=my_string.split()\n",
        "m={}\n",
        "for i in n:\n",
        "  if i not in m.keys():\n",
        "     m[i]=0\n",
        "  m[i]+=1\n",
        "print(m)\n"
      ]
    },
    {
      "cell_type": "code",
      "execution_count": 18,
      "metadata": {
        "colab": {
          "base_uri": "https://localhost:8080/"
        },
        "id": "1JTbc1oLiobH",
        "outputId": "9c2057e6-3bed-4dce-fafe-ec9973f96dbf"
      },
      "outputs": [
        {
          "name": "stdout",
          "output_type": "stream",
          "text": [
            "enter a string: nayan\n",
            "True\n",
            "It is a palindrome\n"
          ]
        }
      ],
      "source": [
        "# Q.5) Exercise 5: Check for Palindrome\n",
        "\n",
        "x=input(\"enter a string: \")\n",
        "if x==x[::-1]:\n",
        "  print(\"True\")\n",
        "  print(\"It is a palindrome\")\n",
        "else:\n",
        "  print(\"False\")\n",
        "  print(\"It is not a palindrome\")"
      ]
    }
  ],
  "metadata": {
    "colab": {
      "provenance": []
    },
    "kernelspec": {
      "display_name": "Python 3",
      "name": "python3"
    },
    "language_info": {
      "name": "python",
      "version": "3.12.4"
    }
  },
  "nbformat": 4,
  "nbformat_minor": 0
}
