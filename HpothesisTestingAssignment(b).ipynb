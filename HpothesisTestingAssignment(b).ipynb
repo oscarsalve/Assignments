{
  "nbformat": 4,
  "nbformat_minor": 0,
  "metadata": {
    "colab": {
      "provenance": []
    },
    "kernelspec": {
      "name": "python3",
      "display_name": "Python 3"
    },
    "language_info": {
      "name": "python"
    }
  },
  "cells": [
    {
      "cell_type": "code",
      "execution_count": 4,
      "metadata": {
        "id": "W66dOvTdmi4n",
        "colab": {
          "base_uri": "https://localhost:8080/"
        },
        "outputId": "ac1abba1-06dc-4d64-9e30-ca917651441c"
      },
      "outputs": [
        {
          "output_type": "execute_result",
          "data": {
            "text/plain": [
              "4000"
            ]
          },
          "metadata": {},
          "execution_count": 4
        }
      ],
      "source": [
        "import numpy as np\n",
        "from scipy import stats\n",
        "\n",
        "# Given data\n",
        "sample_mean = 3050\n",
        "n = 25\n",
        "X_mean = 600\n",
        "X_std = 25\n",
        "\n",
        "# Calculate theoretical mean weekly cost\n",
        "theoretical_mean = 1000 + 5 * X_mean\n",
        "theoretical_mean"
      ]
    },
    {
      "cell_type": "code",
      "source": [
        "# Calculate standard error\n",
        "se = 5 * X_std / np.sqrt(n)\n",
        "se"
      ],
      "metadata": {
        "colab": {
          "base_uri": "https://localhost:8080/"
        },
        "id": "HxjtODUXTpAe",
        "outputId": "a6ae0bf6-0b15-42c6-d579-073cf7062b16"
      },
      "execution_count": 8,
      "outputs": [
        {
          "output_type": "execute_result",
          "data": {
            "text/plain": [
              "25.0"
            ]
          },
          "metadata": {},
          "execution_count": 8
        }
      ]
    },
    {
      "cell_type": "code",
      "source": [
        "# Calculate test statistic\n",
        "t_stat = (sample_mean - theoretical_mean) / se\n",
        "t_stat"
      ],
      "metadata": {
        "colab": {
          "base_uri": "https://localhost:8080/"
        },
        "id": "O3MQJqpHVXBa",
        "outputId": "c8d10e29-3ecf-4364-e6c0-5c4ce9688f3f"
      },
      "execution_count": 10,
      "outputs": [
        {
          "output_type": "execute_result",
          "data": {
            "text/plain": [
              "-38.0"
            ]
          },
          "metadata": {},
          "execution_count": 10
        }
      ]
    },
    {
      "cell_type": "code",
      "source": [
        "print(f\"Theoretical mean weekly cost: ${theoretical_mean:.2f}\")\n",
        "print(f\"Standard error: ${se:.2f}\")\n",
        "print(f\"Test statistic (t): {t_stat:.4f}\")\n",
        "\n",
        "# Calculate p-value (one-tailed test)\n",
        "p_value = 1 - stats.t.cdf(t_stat, df=n-1)\n",
        "\n",
        "print(f\"P-value: {p_value:.4f}\")"
      ],
      "metadata": {
        "colab": {
          "base_uri": "https://localhost:8080/"
        },
        "id": "bPPDcHz9VfBZ",
        "outputId": "13adec4d-e005-427e-d313-9c547bcfe986"
      },
      "execution_count": 11,
      "outputs": [
        {
          "output_type": "stream",
          "name": "stdout",
          "text": [
            "Theoretical mean weekly cost: $4000.00\n",
            "Standard error: $25.00\n",
            "Test statistic (t): -38.0000\n",
            "P-value: 1.0000\n"
          ]
        }
      ]
    },
    {
      "cell_type": "code",
      "source": [
        "# Determine the critical value for a one-tailed test with alpha = 0.05\n",
        "alpha = 0.05\n",
        "critical_value = stats.t.ppf(1 - alpha, df=n-1)\n",
        "critical_value\n",
        "\n",
        "print(f\"Critical value (t): {critical_value:.4f}\")"
      ],
      "metadata": {
        "colab": {
          "base_uri": "https://localhost:8080/"
        },
        "id": "8vYPhPACTaVd",
        "outputId": "cbb99fe5-fac0-4766-811d-5b60094f09ab"
      },
      "execution_count": 14,
      "outputs": [
        {
          "output_type": "stream",
          "name": "stdout",
          "text": [
            "Critical value (t): 1.7109\n"
          ]
        }
      ]
    },
    {
      "cell_type": "code",
      "source": [
        "#We compare the test statistic (-38.0000) with the critical value (1.7109).\n",
        "#Since the test statistic (-38.0000) is less than the critical value (1.7109), we fail to reject the null hypothesis."
      ],
      "metadata": {
        "id": "tT0G5bdiT7jP"
      },
      "execution_count": null,
      "outputs": []
    },
    {
      "cell_type": "code",
      "source": [
        "#conclusion\n",
        "''' In conclusion, this analysis suggests that the restaurant owners' claim of higher operating costs is not supported by the data.\n",
        "Our sample data indicates that the observed costs ($3,050 on average) are significantly lower than what the theoretical model predicts ($4,000 on average).\n",
        "Instead, the data indicates that the actual operating costs are significantly lower than what the theoretical model predicts.\n",
        " This unexpected result warrants further investigation into the factors contributing to the lower costs or potential issues with the data collection process.'''"
      ],
      "metadata": {
        "id": "9LX-CwnUUKiC"
      },
      "execution_count": null,
      "outputs": []
    }
  ]
}